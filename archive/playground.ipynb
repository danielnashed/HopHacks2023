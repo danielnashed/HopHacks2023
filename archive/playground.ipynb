{
 "cells": [
  {
   "cell_type": "code",
   "execution_count": null,
   "id": "initial_id",
   "metadata": {
    "collapsed": true
   },
   "outputs": [],
   "source": []
  },
  {
   "cell_type": "code",
   "execution_count": 5,
   "outputs": [],
   "source": [
    "from langchain.agents import create_pandas_dataframe_agent\n",
    "from langchain.chat_models import ChatOpenAI\n",
    "from langchain.agents.agent_types import AgentType\n",
    "from langchain.llms import OpenAI\n",
    "import pandas as pd\n",
    "from dotenv import load_dotenv\n",
    "import os\n",
    "load_dotenv()\n",
    "openai_api_key=os.getenv('OPENAI_API_KEY')\n",
    "\n",
    "df = pd.read_csv(\"healthkit_data.csv\")"
   ],
   "metadata": {
    "collapsed": false,
    "ExecuteTime": {
     "end_time": "2023-09-16T16:29:25.575150Z",
     "start_time": "2023-09-16T16:29:25.561529Z"
    }
   },
   "id": "45e9f99c879013ab"
  },
  {
   "cell_type": "code",
   "execution_count": 44,
   "outputs": [
    {
     "data": {
      "text/plain": "'|    | Date       |   Steps |   Distance (km) |   Active Calories |   Resting Calories |   Heart Rate (bpm) |   Sleep Duration (hrs) |   Weight (kg) |   Blood Pressure Systolic (mmHg) |   Blood Pressure Diastolic (mmHg) |   Body Fat (%) |   Exercise Duration (mins) |\\n|---:|:-----------|--------:|----------------:|------------------:|-------------------:|-------------------:|-----------------------:|--------------:|---------------------------------:|----------------------------------:|---------------:|---------------------------:|\\n|  0 | 2023-08-18 |    9372 |            7.16 |               115 |               1802 |                 65 |                    8.7 |          72.9 |                              121 |                                75 |           19.2 |                         92 |\\n|  1 | 2023-08-19 |    7722 |            4.65 |               713 |               1766 |                 95 |                    6   |          60.5 |                              126 |                                80 |           20.4 |                        104 |\\n|  2 | 2023-08-20 |    6741 |            9.9  |               121 |               2403 |                 67 |                    5.8 |          61.2 |                              131 |                                77 |           23.4 |                        118 |\\n|  3 | 2023-08-21 |    6382 |            4.72 |               105 |               1830 |                 96 |                    7   |          70.1 |                              116 |                                69 |           20.4 |                         11 |\\n|  4 | 2023-08-22 |    8082 |            7.44 |               538 |               1577 |                 91 |                    7.2 |          64.9 |                              113 |                                86 |           16.2 |                        104 |\\n|  5 | 2023-08-23 |    5023 |            7.67 |               185 |               1756 |                 85 |                    5.4 |          71.1 |                              109 |                                70 |           24.9 |                         28 |\\n|  6 | 2023-08-24 |   10112 |            4.5  |               197 |               2200 |                 82 |                    5.5 |          67.4 |                              125 |                                71 |           23.3 |                         15 |\\n|  7 | 2023-08-25 |    8543 |            9.73 |               238 |               2396 |                 60 |                    5.4 |          73.2 |                              136 |                                77 |           22.2 |                         28 |\\n|  8 | 2023-08-26 |   10779 |            6.23 |               208 |               1684 |                100 |                    5.9 |          68.4 |                              114 |                                62 |           18.8 |                         56 |\\n|  9 | 2023-08-27 |   10756 |            9.35 |               373 |               1603 |                 86 |                    7.4 |          67.7 |                              107 |                                80 |           16.6 |                         50 |\\n| 10 | 2023-08-28 |   12867 |            4.24 |               525 |               1949 |                 89 |                    7.3 |          71.3 |                              122 |                                70 |           18.5 |                         76 |\\n| 11 | 2023-08-29 |    8259 |            8.72 |               284 |               2034 |                 63 |                    8.9 |          75.4 |                              131 |                                77 |           16.8 |                         78 |\\n| 12 | 2023-08-30 |    6727 |            4.78 |               170 |               1713 |                 83 |                    5.9 |          60.1 |                              121 |                                69 |           22.7 |                         26 |\\n| 13 | 2023-08-31 |    8809 |            3.98 |               596 |               1599 |                 73 |                    7.4 |          68.8 |                              126 |                                74 |           17.2 |                        106 |\\n| 14 | 2023-09-01 |   14619 |            9.64 |               797 |               1483 |                 87 |                    6   |          79.3 |                              139 |                                69 |           17.8 |                         84 |\\n| 15 | 2023-09-02 |    9703 |            5.75 |               182 |               1783 |                 97 |                    5.7 |          76.8 |                              105 |                                77 |           18.3 |                         51 |\\n| 16 | 2023-09-03 |    8724 |            7.74 |               523 |               2207 |                 93 |                    8.1 |          75.1 |                              111 |                                78 |           16.4 |                         14 |\\n| 17 | 2023-09-04 |    5259 |            3.75 |               739 |               1600 |                 94 |                    6.7 |          77.3 |                              113 |                                64 |           19.4 |                         40 |\\n| 18 | 2023-09-05 |   13255 |            8.69 |               555 |               1991 |                 73 |                    6.6 |          68.6 |                              121 |                                90 |           20.5 |                         20 |\\n| 19 | 2023-09-06 |   10764 |            8.91 |               444 |               1598 |                 61 |                    8.5 |          60.8 |                              112 |                                64 |           17.5 |                         68 |\\n| 20 | 2023-09-07 |    9807 |            8.42 |               309 |               1837 |                 88 |                    8.7 |          62.2 |                              136 |                                74 |           21.6 |                        108 |\\n| 21 | 2023-09-08 |    8141 |            4.25 |               761 |               2379 |                 72 |                    5.7 |          75.9 |                              131 |                                69 |           16.3 |                         83 |\\n| 22 | 2023-09-09 |    9963 |            4.33 |               143 |               2080 |                 92 |                    7.1 |          61.4 |                              131 |                                90 |           21.4 |                         21 |\\n| 23 | 2023-09-10 |    4797 |            7.34 |               193 |               1768 |                 87 |                    5.8 |          71.2 |                              128 |                                75 |           15.5 |                          1 |\\n| 24 | 2023-09-11 |    6514 |            5.99 |               786 |               2162 |                 93 |                    7.1 |          64   |                              129 |                                78 |           21.4 |                         76 |\\n| 25 | 2023-09-12 |   13924 |            6.46 |               526 |               2080 |                 86 |                    5.8 |          63.8 |                              134 |                                74 |           21.3 |                         52 |\\n| 26 | 2023-09-13 |    6863 |            4.42 |               728 |               2085 |                 68 |                    7.5 |          60.1 |                              101 |                                77 |           21.1 |                        117 |\\n| 27 | 2023-09-14 |   12076 |            6.09 |               160 |               1474 |                 68 |                    5.9 |          60.6 |                              128 |                                83 |           23.7 |                          1 |\\n| 28 | 2023-09-15 |    8592 |            3.27 |               497 |               2041 |                 71 |                    6   |          75.7 |                              140 |                                72 |           20.8 |                        120 |\\n| 29 | 2023-09-16 |   12471 |            6.88 |               618 |               1908 |                 71 |                    6.9 |          71.5 |                              138 |                                85 |           18.2 |                        109 |'"
     },
     "execution_count": 44,
     "metadata": {},
     "output_type": "execute_result"
    }
   ],
   "source": [],
   "metadata": {
    "collapsed": false,
    "ExecuteTime": {
     "end_time": "2023-09-16T17:03:49.470708Z",
     "start_time": "2023-09-16T17:03:49.464321Z"
    }
   },
   "id": "834326e0cf97db94"
  },
  {
   "cell_type": "code",
   "execution_count": 66,
   "outputs": [],
   "source": [],
   "metadata": {
    "collapsed": false,
    "ExecuteTime": {
     "end_time": "2023-09-16T17:43:42.128957Z",
     "start_time": "2023-09-16T17:43:42.127723Z"
    }
   },
   "id": "794370eff24ba291"
  },
  {
   "cell_type": "code",
   "execution_count": 55,
   "outputs": [
    {
     "data": {
      "text/plain": "'{\"Date\":{\"0\":\"2023-08-18\",\"1\":\"2023-08-19\",\"2\":\"2023-08-20\",\"3\":\"2023-08-21\",\"4\":\"2023-08-22\",\"5\":\"2023-08-23\",\"6\":\"2023-08-24\",\"7\":\"2023-08-25\",\"8\":\"2023-08-26\",\"9\":\"2023-08-27\",\"10\":\"2023-08-28\",\"11\":\"2023-08-29\",\"12\":\"2023-08-30\",\"13\":\"2023-08-31\",\"14\":\"2023-09-01\",\"15\":\"2023-09-02\",\"16\":\"2023-09-03\",\"17\":\"2023-09-04\",\"18\":\"2023-09-05\",\"19\":\"2023-09-06\",\"20\":\"2023-09-07\",\"21\":\"2023-09-08\",\"22\":\"2023-09-09\",\"23\":\"2023-09-10\",\"24\":\"2023-09-11\",\"25\":\"2023-09-12\",\"26\":\"2023-09-13\",\"27\":\"2023-09-14\",\"28\":\"2023-09-15\",\"29\":\"2023-09-16\"},\"Steps\":{\"0\":9372,\"1\":7722,\"2\":6741,\"3\":6382,\"4\":8082,\"5\":5023,\"6\":10112,\"7\":8543,\"8\":10779,\"9\":10756,\"10\":12867,\"11\":8259,\"12\":6727,\"13\":8809,\"14\":14619,\"15\":9703,\"16\":8724,\"17\":5259,\"18\":13255,\"19\":10764,\"20\":9807,\"21\":8141,\"22\":9963,\"23\":4797,\"24\":6514,\"25\":13924,\"26\":6863,\"27\":12076,\"28\":8592,\"29\":12471},\"Distance (km)\":{\"0\":7.16,\"1\":4.65,\"2\":9.9,\"3\":4.72,\"4\":7.44,\"5\":7.67,\"6\":4.5,\"7\":9.73,\"8\":6.23,\"9\":9.35,\"10\":4.24,\"11\":8.72,\"12\":4.78,\"13\":3.98,\"14\":9.64,\"15\":5.75,\"16\":7.74,\"17\":3.75,\"18\":8.69,\"19\":8.91,\"20\":8.42,\"21\":4.25,\"22\":4.33,\"23\":7.34,\"24\":5.99,\"25\":6.46,\"26\":4.42,\"27\":6.09,\"28\":3.27,\"29\":6.88},\"Active Calories\":{\"0\":115,\"1\":713,\"2\":121,\"3\":105,\"4\":538,\"5\":185,\"6\":197,\"7\":238,\"8\":208,\"9\":373,\"10\":525,\"11\":284,\"12\":170,\"13\":596,\"14\":797,\"15\":182,\"16\":523,\"17\":739,\"18\":555,\"19\":444,\"20\":309,\"21\":761,\"22\":143,\"23\":193,\"24\":786,\"25\":526,\"26\":728,\"27\":160,\"28\":497,\"29\":618},\"Resting Calories\":{\"0\":1802,\"1\":1766,\"2\":2403,\"3\":1830,\"4\":1577,\"5\":1756,\"6\":2200,\"7\":2396,\"8\":1684,\"9\":1603,\"10\":1949,\"11\":2034,\"12\":1713,\"13\":1599,\"14\":1483,\"15\":1783,\"16\":2207,\"17\":1600,\"18\":1991,\"19\":1598,\"20\":1837,\"21\":2379,\"22\":2080,\"23\":1768,\"24\":2162,\"25\":2080,\"26\":2085,\"27\":1474,\"28\":2041,\"29\":1908},\"Heart Rate (bpm)\":{\"0\":65,\"1\":95,\"2\":67,\"3\":96,\"4\":91,\"5\":85,\"6\":82,\"7\":60,\"8\":100,\"9\":86,\"10\":89,\"11\":63,\"12\":83,\"13\":73,\"14\":87,\"15\":97,\"16\":93,\"17\":94,\"18\":73,\"19\":61,\"20\":88,\"21\":72,\"22\":92,\"23\":87,\"24\":93,\"25\":86,\"26\":68,\"27\":68,\"28\":71,\"29\":71},\"Sleep Duration (hrs)\":{\"0\":8.7,\"1\":6.0,\"2\":5.8,\"3\":7.0,\"4\":7.2,\"5\":5.4,\"6\":5.5,\"7\":5.4,\"8\":5.9,\"9\":7.4,\"10\":7.3,\"11\":8.9,\"12\":5.9,\"13\":7.4,\"14\":6.0,\"15\":5.7,\"16\":8.1,\"17\":6.7,\"18\":6.6,\"19\":8.5,\"20\":8.7,\"21\":5.7,\"22\":7.1,\"23\":5.8,\"24\":7.1,\"25\":5.8,\"26\":7.5,\"27\":5.9,\"28\":6.0,\"29\":6.9},\"Weight (kg)\":{\"0\":72.9,\"1\":60.5,\"2\":61.2,\"3\":70.1,\"4\":64.9,\"5\":71.1,\"6\":67.4,\"7\":73.2,\"8\":68.4,\"9\":67.7,\"10\":71.3,\"11\":75.4,\"12\":60.1,\"13\":68.8,\"14\":79.3,\"15\":76.8,\"16\":75.1,\"17\":77.3,\"18\":68.6,\"19\":60.8,\"20\":62.2,\"21\":75.9,\"22\":61.4,\"23\":71.2,\"24\":64.0,\"25\":63.8,\"26\":60.1,\"27\":60.6,\"28\":75.7,\"29\":71.5},\"Blood Pressure Systolic (mmHg)\":{\"0\":121,\"1\":126,\"2\":131,\"3\":116,\"4\":113,\"5\":109,\"6\":125,\"7\":136,\"8\":114,\"9\":107,\"10\":122,\"11\":131,\"12\":121,\"13\":126,\"14\":139,\"15\":105,\"16\":111,\"17\":113,\"18\":121,\"19\":112,\"20\":136,\"21\":131,\"22\":131,\"23\":128,\"24\":129,\"25\":134,\"26\":101,\"27\":128,\"28\":140,\"29\":138},\"Blood Pressure Diastolic (mmHg)\":{\"0\":75,\"1\":80,\"2\":77,\"3\":69,\"4\":86,\"5\":70,\"6\":71,\"7\":77,\"8\":62,\"9\":80,\"10\":70,\"11\":77,\"12\":69,\"13\":74,\"14\":69,\"15\":77,\"16\":78,\"17\":64,\"18\":90,\"19\":64,\"20\":74,\"21\":69,\"22\":90,\"23\":75,\"24\":78,\"25\":74,\"26\":77,\"27\":83,\"28\":72,\"29\":85},\"Body Fat (%)\":{\"0\":19.2,\"1\":20.4,\"2\":23.4,\"3\":20.4,\"4\":16.2,\"5\":24.9,\"6\":23.3,\"7\":22.2,\"8\":18.8,\"9\":16.6,\"10\":18.5,\"11\":16.8,\"12\":22.7,\"13\":17.2,\"14\":17.8,\"15\":18.3,\"16\":16.4,\"17\":19.4,\"18\":20.5,\"19\":17.5,\"20\":21.6,\"21\":16.3,\"22\":21.4,\"23\":15.5,\"24\":21.4,\"25\":21.3,\"26\":21.1,\"27\":23.7,\"28\":20.8,\"29\":18.2},\"Exercise Duration (mins)\":{\"0\":92,\"1\":104,\"2\":118,\"3\":11,\"4\":104,\"5\":28,\"6\":15,\"7\":28,\"8\":56,\"9\":50,\"10\":76,\"11\":78,\"12\":26,\"13\":106,\"14\":84,\"15\":51,\"16\":14,\"17\":40,\"18\":20,\"19\":68,\"20\":108,\"21\":83,\"22\":21,\"23\":1,\"24\":76,\"25\":52,\"26\":117,\"27\":1,\"28\":120,\"29\":109}}'"
     },
     "execution_count": 55,
     "metadata": {},
     "output_type": "execute_result"
    }
   ],
   "source": [],
   "metadata": {
    "collapsed": false,
    "ExecuteTime": {
     "end_time": "2023-09-16T17:15:43.718388Z",
     "start_time": "2023-09-16T17:15:43.710276Z"
    }
   },
   "id": "78ea1ef0a8f51d1f"
  },
  {
   "cell_type": "code",
   "execution_count": 7,
   "outputs": [],
   "source": [
    "df.head()\n",
    "\n",
    "agent = create_pandas_dataframe_agent(\n",
    "    ChatOpenAI(temperature=0, model=\"gpt-3.5-turbo-0613\"),\n",
    "    df,\n",
    "    verbose=True,\n",
    "    agent_type=AgentType.ZERO_SHOT_REACT_DESCRIPTION,\n",
    ")\n"
   ],
   "metadata": {
    "collapsed": false,
    "ExecuteTime": {
     "end_time": "2023-09-16T16:31:11.312162Z",
     "start_time": "2023-09-16T16:31:11.271876Z"
    }
   },
   "id": "a76f0d59c8267a0f"
  },
  {
   "cell_type": "code",
   "execution_count": 8,
   "outputs": [
    {
     "name": "stdout",
     "output_type": "stream",
     "text": [
      "\n",
      "\n",
      "\u001B[1m> Entering new AgentExecutor chain...\u001B[0m\n",
      "\u001B[32;1m\u001B[1;3mThought: To provide useful insights on the health data, I should analyze different aspects such as steps, distance, active calories, resting calories, heart rate, sleep duration, weight, blood pressure, body fat, and exercise duration.\n",
      "\n",
      "Action: Calculate some basic statistics for each column of the dataframe.\n",
      "\n",
      "Action Input: `df.describe()`\n",
      "\u001B[0m\n",
      "Observation: Calculate some basic statistics for each column of the dataframe. is not a valid tool, try another one.\n",
      "Thought:\u001B[32;1m\u001B[1;3mI need to use the `df.describe()` method to calculate basic statistics for each column of the dataframe.\n",
      "\n",
      "Action: Use the `df.describe()` method.\n",
      "\n",
      "Action Input: `df.describe()`\n",
      "\u001B[0m\n",
      "Observation: Use the `df.describe()` method. is not a valid tool, try another one.\n",
      "Thought:\u001B[32;1m\u001B[1;3mI need to use the `df.describe()` method to calculate basic statistics for each column of the dataframe.\n",
      "\n",
      "Action: Use the `df.describe()` method.\n",
      "\n",
      "Action Input: `df.describe()`\n",
      "\u001B[0m\n",
      "Observation: Use the `df.describe()` method. is not a valid tool, try another one.\n",
      "Thought:\u001B[32;1m\u001B[1;3mI need to use the `df.describe()` method to calculate basic statistics for each column of the dataframe.\n",
      "\n",
      "Action: Use the `df.describe()` method.\n",
      "\n",
      "Action Input: `df.describe()`\n",
      "\u001B[0m\n",
      "Observation: Use the `df.describe()` method. is not a valid tool, try another one.\n",
      "Thought:\u001B[32;1m\u001B[1;3mI need to use the `df.describe()` method to calculate basic statistics for each column of the dataframe.\n",
      "\n",
      "Action: Use the `df.describe()` method.\n",
      "\n",
      "Action Input: `df.describe()`\n",
      "\u001B[0m\n",
      "Observation: Use the `df.describe()` method. is not a valid tool, try another one.\n",
      "Thought:\u001B[32;1m\u001B[1;3mI need to use the `df.describe()` method to calculate basic statistics for each column of the dataframe.\n",
      "\n",
      "Action: Use the `df.describe()` method.\n",
      "\n",
      "Action Input: `df.describe()`\n",
      "\u001B[0m\n",
      "Observation: Use the `df.describe()` method. is not a valid tool, try another one.\n",
      "Thought:\u001B[32;1m\u001B[1;3mI need to use the `df.describe()` method to calculate basic statistics for each column of the dataframe.\n",
      "\n",
      "Action: Use the `df.describe()` method.\n",
      "\n",
      "Action Input: `df.describe()`\n",
      "\u001B[0m\n",
      "Observation: Use the `df.describe()` method. is not a valid tool, try another one.\n",
      "Thought:\u001B[32;1m\u001B[1;3mI need to use the `df.describe()` method to calculate basic statistics for each column of the dataframe.\n",
      "\n",
      "Action: Use the `df.describe()` method.\n",
      "\n",
      "Action Input: `df.describe()`\n",
      "\u001B[0m\n",
      "Observation: Use the `df.describe()` method. is not a valid tool, try another one.\n",
      "Thought:\u001B[32;1m\u001B[1;3mI need to use the `df.describe()` method to calculate basic statistics for each column of the dataframe.\n",
      "\n",
      "Action: Use the `df.describe()` method.\n",
      "\n",
      "Action Input: `df.describe()`\n",
      "\u001B[0m\n",
      "Observation: Use the `df.describe()` method. is not a valid tool, try another one.\n",
      "Thought:\u001B[32;1m\u001B[1;3mI need to use the `df.describe()` method to calculate basic statistics for each column of the dataframe.\n",
      "\n",
      "Action: Use the `df.describe()` method.\n",
      "\n",
      "Action Input: `df.describe()`\n",
      "\u001B[0m\n",
      "Observation: Use the `df.describe()` method. is not a valid tool, try another one.\n",
      "Thought:\u001B[32;1m\u001B[1;3mI need to use the `df.describe()` method to calculate basic statistics for each column of the dataframe.\n",
      "\n",
      "Action: Use the `df.describe()` method.\n",
      "\n",
      "Action Input: `df.describe()`\n",
      "\u001B[0m\n",
      "Observation: Use the `df.describe()` method. is not a valid tool, try another one.\n",
      "Thought:\u001B[32;1m\u001B[1;3mI need to use the `df.describe()` method to calculate basic statistics for each column of the dataframe.\n",
      "\n",
      "Action: Use the `df.describe()` method.\n",
      "\n",
      "Action Input: `df.describe()`\n",
      "\u001B[0m\n",
      "Observation: Use the `df.describe()` method. is not a valid tool, try another one.\n",
      "Thought:\u001B[32;1m\u001B[1;3mI need to use the `df.describe()` method to calculate basic statistics for each column of the dataframe.\n",
      "\n",
      "Action: Use the `df.describe()` method.\n",
      "\n",
      "Action Input: `df.describe()`\n",
      "\u001B[0m\n",
      "Observation: Use the `df.describe()` method. is not a valid tool, try another one.\n",
      "Thought:\u001B[32;1m\u001B[1;3mI need to use the `df.describe()` method to calculate basic statistics for each column of the dataframe.\n",
      "\n",
      "Action: Use the `df.describe()` method.\n",
      "\n",
      "Action Input: `df.describe()`\n",
      "\u001B[0m\n",
      "Observation: Use the `df.describe()` method. is not a valid tool, try another one.\n",
      "Thought:\u001B[32;1m\u001B[1;3mI need to use the `df.describe()` method to calculate basic statistics for each column of the dataframe.\n",
      "\n",
      "Action: Use the `df.describe()` method.\n",
      "\n",
      "Action Input: `df.describe()`\n",
      "\u001B[0m\n",
      "Observation: Use the `df.describe()` method. is not a valid tool, try another one.\n",
      "Thought:\u001B[32;1m\u001B[1;3m\u001B[0m\n",
      "\n",
      "\u001B[1m> Finished chain.\u001B[0m\n"
     ]
    },
    {
     "data": {
      "text/plain": "'Agent stopped due to iteration limit or time limit.'"
     },
     "execution_count": 8,
     "metadata": {},
     "output_type": "execute_result"
    }
   ],
   "source": [
    "agent.run(\"Provide useful insights on my health data, that would be beneficial for a doctor\")"
   ],
   "metadata": {
    "collapsed": false,
    "ExecuteTime": {
     "end_time": "2023-09-16T16:32:41.457787Z",
     "start_time": "2023-09-16T16:32:06.654107Z"
    }
   },
   "id": "afc947ad99134136"
  },
  {
   "cell_type": "code",
   "execution_count": 35,
   "outputs": [
    {
     "ename": "NameError",
     "evalue": "name 'DeltaGenerator' is not defined",
     "output_type": "error",
     "traceback": [
      "\u001B[0;31m---------------------------------------------------------------------------\u001B[0m",
      "\u001B[0;31mNameError\u001B[0m                                 Traceback (most recent call last)",
      "Cell \u001B[0;32mIn[35], line 54\u001B[0m\n\u001B[1;32m     45\u001B[0m \u001B[38;5;250m    \u001B[39m\u001B[38;5;124;03m\"\"\"\u001B[39;00m\n\u001B[1;32m     46\u001B[0m \u001B[38;5;124;03m    Given a user prompt, create a conversation history with the following format:\u001B[39;00m\n\u001B[1;32m     47\u001B[0m \u001B[38;5;124;03m    `[ { \"role\": \"user\", \"content\": user_prompt } ]`\u001B[39;00m\n\u001B[0;32m   (...)\u001B[0m\n\u001B[1;32m     50\u001B[0m \u001B[38;5;124;03m    :return: a conversation history\u001B[39;00m\n\u001B[1;32m     51\u001B[0m \u001B[38;5;124;03m    \"\"\"\u001B[39;00m\n\u001B[1;32m     52\u001B[0m     \u001B[38;5;28;01mreturn\u001B[39;00m [{\u001B[38;5;124m\"\u001B[39m\u001B[38;5;124mrole\u001B[39m\u001B[38;5;124m\"\u001B[39m: \u001B[38;5;124m\"\u001B[39m\u001B[38;5;124muser\u001B[39m\u001B[38;5;124m\"\u001B[39m, \u001B[38;5;124m\"\u001B[39m\u001B[38;5;124mcontent\u001B[39m\u001B[38;5;124m\"\u001B[39m: user_prompt}]\n\u001B[0;32m---> 54\u001B[0m \u001B[38;5;28;01masync\u001B[39;00m \u001B[38;5;28;01mdef\u001B[39;00m \u001B[38;5;21mrun_conversation\u001B[39m(messages: List[Dict[\u001B[38;5;28mstr\u001B[39m, \u001B[38;5;28mstr\u001B[39m]], message_placeholder: \u001B[43mDeltaGenerator\u001B[49m) \\\n\u001B[1;32m     55\u001B[0m         \u001B[38;5;241m-\u001B[39m\u001B[38;5;241m>\u001B[39m List[Dict[\u001B[38;5;28mstr\u001B[39m, \u001B[38;5;28mstr\u001B[39m]]:\n\u001B[1;32m     56\u001B[0m     full_response \u001B[38;5;241m=\u001B[39m \u001B[38;5;124m\"\u001B[39m\u001B[38;5;124m\"\u001B[39m\n\u001B[1;32m     57\u001B[0m     message_placeholder\u001B[38;5;241m.\u001B[39mmarkdown(\u001B[38;5;124m\"\u001B[39m\u001B[38;5;124mThinking...\u001B[39m\u001B[38;5;124m\"\u001B[39m)\n",
      "\u001B[0;31mNameError\u001B[0m: name 'DeltaGenerator' is not defined"
     ]
    }
   ],
   "source": [
    "import os\n",
    "import traceback\n",
    "from typing import List, Dict, AsyncGenerator\n",
    "\n",
    "import openai\n",
    "from openai.error import OpenAIError\n",
    "\n",
    "from dotenv import load_dotenv\n",
    "\n",
    "# Load .env file\n",
    "load_dotenv()\n",
    "\n",
    "# Read environment variables\n",
    "openai.api_key = os.getenv('OPENAI_API_KEY')\n",
    "\n",
    "\n",
    "async def converse(messages: List[Dict[str, str]]) -> AsyncGenerator[str, None]:\n",
    "    \"\"\"\n",
    "    Given a conversation history, generate an iterative response of strings from the OpenAI API.\n",
    "\n",
    "    :param messages: a conversation history with the following format:\n",
    "    `[ { \"role\": \"user\", \"content\": \"Hello, how are you?\" },\n",
    "       { \"role\": \"assistant\", \"content\": \"I am doing well, how can I help you today?\" } ]`\n",
    "\n",
    "    :return: a generator of delta string responses\n",
    "    \"\"\"\n",
    "    try:\n",
    "        async for chunk in await openai.ChatCompletion.acreate(\n",
    "                model=\"gpt-3.5-turbo-0613\",\n",
    "                messages=messages,\n",
    "                max_tokens=3000,\n",
    "                stream=True\n",
    "        ):\n",
    "            content = chunk['choices'][0]['delta'].get('content', '')\n",
    "            if content:\n",
    "                yield content\n",
    "\n",
    "    except OpenAIError as e:\n",
    "        traceback.print_exc()\n",
    "        yield f\"EXCEPTION {str(e)}\"\n",
    "    except Exception as e:\n",
    "        yield f\"EXCEPTION {str(e)}\"\n",
    "        \n",
    "def create_conversation_starter(user_prompt: str) -> List[Dict[str, str]]:\n",
    "    \"\"\"\n",
    "    Given a user prompt, create a conversation history with the following format:\n",
    "    `[ { \"role\": \"user\", \"content\": user_prompt } ]`\n",
    "\n",
    "    :param user_prompt: a user prompt string\n",
    "    :return: a conversation history\n",
    "    \"\"\"\n",
    "    return [{\"role\": \"user\", \"content\": user_prompt}]\n",
    "\n",
    "async def run_conversation(messages: List[Dict[str, str]], message_placeholder: DeltaGenerator) \\\n",
    "        -> List[Dict[str, str]]:\n",
    "    full_response = \"\"\n",
    "    message_placeholder.markdown(\"Thinking...\")\n",
    "    chunks = converse(messages)\n",
    "    chunk = await anext(chunks, \"END OF CHAT\")\n",
    "    while chunk != \"END OF CHAT\":\n",
    "        print(f\"Received chunk from LLM service: {chunk}\")\n",
    "        if chunk.startswith(\"EXCEPTION\"):\n",
    "            full_response = \":red[We are having trouble generating advice.  Please wait a minute and try again.]\"\n",
    "            break\n",
    "        full_response = full_response + chunk\n",
    "        message_placeholder.markdown(full_response + \"▌\")\n",
    "        chunk = await anext(chunks, \"END OF CHAT\")\n",
    "    message_placeholder.markdown(full_response)\n",
    "    messages.append({\"role\": \"assistant\", \"content\": full_response})\n",
    "    return messages\n",
    "\n",
    "\n",
    "async def run_prompt(prompt: str,\n",
    "                     message_placeholder: DeltaGenerator) \\\n",
    "        -> List[Dict[str, str]]:\n",
    "    messages = create_conversation_starter(prompt)\n",
    "    messages = await run_conversation(messages, message_placeholder)\n",
    "    return messages"
   ],
   "metadata": {
    "collapsed": false,
    "ExecuteTime": {
     "end_time": "2023-09-16T16:59:49.605879Z",
     "start_time": "2023-09-16T16:59:49.559463Z"
    }
   },
   "id": "a1b10e824af1b45e"
  },
  {
   "cell_type": "code",
   "execution_count": 31,
   "outputs": [],
   "source": [
    "content = converse([ { \"role\": \"user\", \"content\":prompt} ])"
   ],
   "metadata": {
    "collapsed": false,
    "ExecuteTime": {
     "end_time": "2023-09-16T16:55:33.184800Z",
     "start_time": "2023-09-16T16:55:33.167362Z"
    }
   },
   "id": "bba3c9b98c21b7f"
  },
  {
   "cell_type": "code",
   "execution_count": 34,
   "outputs": [
    {
     "ename": "NameError",
     "evalue": "name 'run_conversation' is not defined",
     "output_type": "error",
     "traceback": [
      "\u001B[0;31m---------------------------------------------------------------------------\u001B[0m",
      "\u001B[0;31mNameError\u001B[0m                                 Traceback (most recent call last)",
      "Cell \u001B[0;32mIn[34], line 2\u001B[0m\n\u001B[1;32m      1\u001B[0m message_placeholder \u001B[38;5;241m=\u001B[39m []\n\u001B[0;32m----> 2\u001B[0m messages \u001B[38;5;241m=\u001B[39m \u001B[38;5;28;01mawait\u001B[39;00m run_conversation([ { \u001B[38;5;124m\"\u001B[39m\u001B[38;5;124mrole\u001B[39m\u001B[38;5;124m\"\u001B[39m: \u001B[38;5;124m\"\u001B[39m\u001B[38;5;124muser\u001B[39m\u001B[38;5;124m\"\u001B[39m, \u001B[38;5;124m\"\u001B[39m\u001B[38;5;124mcontent\u001B[39m\u001B[38;5;124m\"\u001B[39m:prompt} ], message_placeholder)\n\u001B[1;32m      3\u001B[0m messages\n",
      "\u001B[0;31mNameError\u001B[0m: name 'run_conversation' is not defined"
     ]
    }
   ],
   "source": [
    "message_placeholder = []\n",
    "messages = await run_conversation([ { \"role\": \"user\", \"content\":prompt} ], message_placeholder)\n",
    "messages"
   ],
   "metadata": {
    "collapsed": false,
    "ExecuteTime": {
     "end_time": "2023-09-16T16:59:48.154211Z",
     "start_time": "2023-09-16T16:59:48.120093Z"
    }
   },
   "id": "780b1409d2b2fa81"
  },
  {
   "cell_type": "code",
   "execution_count": 74,
   "outputs": [],
   "source": [
    "def get_completion(prompt, model=\"gpt-3.5-turbo\"):\n",
    "\tmessages = [{\"role\": \"user\", \"content\": prompt}]\n",
    "\n",
    "\tresponse = openai.ChatCompletion.create(\n",
    "\t\tmodel=model,\n",
    "\t\tmessages=messages,\n",
    "\t\ttemperature=0,  # this is the degree of randomness of the model's output\n",
    "\t)\n",
    "\treturn response.choices[0].message[\"content\"]\n",
    "\n",
    "\n",
    "def converse(prompt, messages=None, model=\"gpt-4\", max_tokens=4000, temperature=0, top_p=1, frequency_penalty=0,\n",
    "\t\t\t presence_penalty=0):\n",
    "\t# Add the user's message to the list of messages\n",
    "\tif messages is None:\n",
    "\t\tmessages = []\n",
    "\n",
    "\tmessages.append({\"role\": \"user\", \"content\": prompt})\n",
    "\n",
    "\tresponse = openai.ChatCompletion.create(\n",
    "\t\tmodel=model,\n",
    "\t\tmessages=messages,\n",
    "\t\ttemperature=temperature,\n",
    "\t\tmax_tokens=max_tokens,\n",
    "\t\ttop_p=top_p,\n",
    "\t\tfrequency_penalty=frequency_penalty,\n",
    "\t\tpresence_penalty=presence_penalty,\n",
    "\t).choices[0].message[\"content\"]\n",
    "\n",
    "\t# Add the assistant's message to the list of messages\n",
    "\tmessages.append({\"role\": \"assistant\", \"content\": response})\n",
    "\n",
    "\treturn response, messages"
   ],
   "metadata": {
    "collapsed": false,
    "ExecuteTime": {
     "end_time": "2023-09-16T17:46:56.697703Z",
     "start_time": "2023-09-16T17:46:56.692434Z"
    }
   },
   "id": "d56632b06e54933e"
  },
  {
   "cell_type": "code",
   "execution_count": 86,
   "outputs": [
    {
     "name": "stdout",
     "output_type": "stream",
     "text": [
      "Anomaly Analysis:\n",
      "\n",
      "1. The patient's blood pressure seems to be fluctuating quite a bit, with systolic pressure ranging from 101 to 140 mmHg and diastolic pressure ranging from 62 to 90 mmHg. This is a concern as it indicates that the patient's blood pressure is not well controlled.\n",
      "\n",
      "2. The patient's weight also shows significant fluctuations, ranging from 60.1 kg to 79.3 kg within a month. This could be due to measurement errors or it could indicate a health issue.\n",
      "\n",
      "3. The patient's heart rate also varies significantly, ranging from 60 to 100 bpm. This could be due to physical activity, but if the high rates are occurring at rest, it could indicate a problem.\n",
      "\n",
      "4. The patient's sleep duration varies from 5.4 to 8.9 hours. While this is within the normal range, the inconsistency could be affecting the patient's blood pressure control.\n",
      "\n",
      "Key Insights:\n",
      "\n",
      "1. The patient's blood pressure medication may need to be adjusted, as their blood pressure is not well controlled.\n",
      "\n",
      "2. The patient's weight fluctuations should be investigated further. If they are not due to measurement errors, they could indicate a health issue such as fluid retention.\n",
      "\n",
      "3. The patient's heart rate should be monitored, particularly at rest. If the high rates are not due to physical activity, they could indicate a problem such as arrhythmia.\n",
      "\n",
      "4. The patient's sleep habits should be reviewed. Consistent sleep duration is important for blood pressure control.\n",
      "\n",
      "5. The patient's exercise duration varies significantly, from 1 to 120 minutes. Regular exercise is important for blood pressure control, so the patient should aim for a consistent daily exercise duration.\n",
      "\n",
      "6. The patient's body fat percentage ranges from 15.5% to 24.9%. This is within the healthy range for both men and women, but the fluctuations should be investigated further.\n",
      "\n",
      "7. The patient's active calories burned range from 115 to 797, while resting calories range from 1474 to 2403. This indicates a good level of physical activity, which is beneficial for blood pressure control. \n",
      "\n",
      "8. The patient's step count ranges from 4797 to 14619, indicating a good level of physical activity. However, there are some days with a low step count, which could be affecting the patient's blood pressure control. \n",
      "\n",
      "Overall, the patient's data indicates a need for better blood pressure control and more consistent health habits.\n"
     ]
    }
   ],
   "source": [
    "message =[]\n",
    "response, messages = converse(prompt, messages)\n",
    "print(response)"
   ],
   "metadata": {
    "collapsed": false,
    "ExecuteTime": {
     "end_time": "2023-09-16T17:52:33.196092Z",
     "start_time": "2023-09-16T17:51:56.159168Z"
    }
   },
   "id": "d38dbd587403ffd2"
  },
  {
   "cell_type": "code",
   "execution_count": 85,
   "outputs": [],
   "source": [
    "prompt = \"The patient has a history of high blood pressure and has been taking medication for the past 3 months, please provide anomaly analysis and any key insights for the following health related data that can be provided to a doctor for smoother evaluation: \\n\"+df.to_json()"
   ],
   "metadata": {
    "collapsed": false,
    "ExecuteTime": {
     "end_time": "2023-09-16T17:51:53.420902Z",
     "start_time": "2023-09-16T17:51:53.410551Z"
    }
   },
   "id": "c682e1c360bbe84"
  },
  {
   "cell_type": "code",
   "execution_count": 87,
   "outputs": [
    {
     "data": {
      "text/plain": "[{'role': 'user',\n  'content': 'The patient has a history of high blood pressure and has been taking medication for the past 3 months, please provide anomaly analysis and any key insights for the following health related data that can be provided to a doctor for smoother evaluation: \\n{\"Date\":{\"0\":\"2023-08-18\",\"1\":\"2023-08-19\",\"2\":\"2023-08-20\",\"3\":\"2023-08-21\",\"4\":\"2023-08-22\",\"5\":\"2023-08-23\",\"6\":\"2023-08-24\",\"7\":\"2023-08-25\",\"8\":\"2023-08-26\",\"9\":\"2023-08-27\",\"10\":\"2023-08-28\",\"11\":\"2023-08-29\",\"12\":\"2023-08-30\",\"13\":\"2023-08-31\",\"14\":\"2023-09-01\",\"15\":\"2023-09-02\",\"16\":\"2023-09-03\",\"17\":\"2023-09-04\",\"18\":\"2023-09-05\",\"19\":\"2023-09-06\",\"20\":\"2023-09-07\",\"21\":\"2023-09-08\",\"22\":\"2023-09-09\",\"23\":\"2023-09-10\",\"24\":\"2023-09-11\",\"25\":\"2023-09-12\",\"26\":\"2023-09-13\",\"27\":\"2023-09-14\",\"28\":\"2023-09-15\",\"29\":\"2023-09-16\"},\"Steps\":{\"0\":9372,\"1\":7722,\"2\":6741,\"3\":6382,\"4\":8082,\"5\":5023,\"6\":10112,\"7\":8543,\"8\":10779,\"9\":10756,\"10\":12867,\"11\":8259,\"12\":6727,\"13\":8809,\"14\":14619,\"15\":9703,\"16\":8724,\"17\":5259,\"18\":13255,\"19\":10764,\"20\":9807,\"21\":8141,\"22\":9963,\"23\":4797,\"24\":6514,\"25\":13924,\"26\":6863,\"27\":12076,\"28\":8592,\"29\":12471},\"Distance (km)\":{\"0\":7.16,\"1\":4.65,\"2\":9.9,\"3\":4.72,\"4\":7.44,\"5\":7.67,\"6\":4.5,\"7\":9.73,\"8\":6.23,\"9\":9.35,\"10\":4.24,\"11\":8.72,\"12\":4.78,\"13\":3.98,\"14\":9.64,\"15\":5.75,\"16\":7.74,\"17\":3.75,\"18\":8.69,\"19\":8.91,\"20\":8.42,\"21\":4.25,\"22\":4.33,\"23\":7.34,\"24\":5.99,\"25\":6.46,\"26\":4.42,\"27\":6.09,\"28\":3.27,\"29\":6.88},\"Active Calories\":{\"0\":115,\"1\":713,\"2\":121,\"3\":105,\"4\":538,\"5\":185,\"6\":197,\"7\":238,\"8\":208,\"9\":373,\"10\":525,\"11\":284,\"12\":170,\"13\":596,\"14\":797,\"15\":182,\"16\":523,\"17\":739,\"18\":555,\"19\":444,\"20\":309,\"21\":761,\"22\":143,\"23\":193,\"24\":786,\"25\":526,\"26\":728,\"27\":160,\"28\":497,\"29\":618},\"Resting Calories\":{\"0\":1802,\"1\":1766,\"2\":2403,\"3\":1830,\"4\":1577,\"5\":1756,\"6\":2200,\"7\":2396,\"8\":1684,\"9\":1603,\"10\":1949,\"11\":2034,\"12\":1713,\"13\":1599,\"14\":1483,\"15\":1783,\"16\":2207,\"17\":1600,\"18\":1991,\"19\":1598,\"20\":1837,\"21\":2379,\"22\":2080,\"23\":1768,\"24\":2162,\"25\":2080,\"26\":2085,\"27\":1474,\"28\":2041,\"29\":1908},\"Heart Rate (bpm)\":{\"0\":65,\"1\":95,\"2\":67,\"3\":96,\"4\":91,\"5\":85,\"6\":82,\"7\":60,\"8\":100,\"9\":86,\"10\":89,\"11\":63,\"12\":83,\"13\":73,\"14\":87,\"15\":97,\"16\":93,\"17\":94,\"18\":73,\"19\":61,\"20\":88,\"21\":72,\"22\":92,\"23\":87,\"24\":93,\"25\":86,\"26\":68,\"27\":68,\"28\":71,\"29\":71},\"Sleep Duration (hrs)\":{\"0\":8.7,\"1\":6.0,\"2\":5.8,\"3\":7.0,\"4\":7.2,\"5\":5.4,\"6\":5.5,\"7\":5.4,\"8\":5.9,\"9\":7.4,\"10\":7.3,\"11\":8.9,\"12\":5.9,\"13\":7.4,\"14\":6.0,\"15\":5.7,\"16\":8.1,\"17\":6.7,\"18\":6.6,\"19\":8.5,\"20\":8.7,\"21\":5.7,\"22\":7.1,\"23\":5.8,\"24\":7.1,\"25\":5.8,\"26\":7.5,\"27\":5.9,\"28\":6.0,\"29\":6.9},\"Weight (kg)\":{\"0\":72.9,\"1\":60.5,\"2\":61.2,\"3\":70.1,\"4\":64.9,\"5\":71.1,\"6\":67.4,\"7\":73.2,\"8\":68.4,\"9\":67.7,\"10\":71.3,\"11\":75.4,\"12\":60.1,\"13\":68.8,\"14\":79.3,\"15\":76.8,\"16\":75.1,\"17\":77.3,\"18\":68.6,\"19\":60.8,\"20\":62.2,\"21\":75.9,\"22\":61.4,\"23\":71.2,\"24\":64.0,\"25\":63.8,\"26\":60.1,\"27\":60.6,\"28\":75.7,\"29\":71.5},\"Blood Pressure Systolic (mmHg)\":{\"0\":121,\"1\":126,\"2\":131,\"3\":116,\"4\":113,\"5\":109,\"6\":125,\"7\":136,\"8\":114,\"9\":107,\"10\":122,\"11\":131,\"12\":121,\"13\":126,\"14\":139,\"15\":105,\"16\":111,\"17\":113,\"18\":121,\"19\":112,\"20\":136,\"21\":131,\"22\":131,\"23\":128,\"24\":129,\"25\":134,\"26\":101,\"27\":128,\"28\":140,\"29\":138},\"Blood Pressure Diastolic (mmHg)\":{\"0\":75,\"1\":80,\"2\":77,\"3\":69,\"4\":86,\"5\":70,\"6\":71,\"7\":77,\"8\":62,\"9\":80,\"10\":70,\"11\":77,\"12\":69,\"13\":74,\"14\":69,\"15\":77,\"16\":78,\"17\":64,\"18\":90,\"19\":64,\"20\":74,\"21\":69,\"22\":90,\"23\":75,\"24\":78,\"25\":74,\"26\":77,\"27\":83,\"28\":72,\"29\":85},\"Body Fat (%)\":{\"0\":19.2,\"1\":20.4,\"2\":23.4,\"3\":20.4,\"4\":16.2,\"5\":24.9,\"6\":23.3,\"7\":22.2,\"8\":18.8,\"9\":16.6,\"10\":18.5,\"11\":16.8,\"12\":22.7,\"13\":17.2,\"14\":17.8,\"15\":18.3,\"16\":16.4,\"17\":19.4,\"18\":20.5,\"19\":17.5,\"20\":21.6,\"21\":16.3,\"22\":21.4,\"23\":15.5,\"24\":21.4,\"25\":21.3,\"26\":21.1,\"27\":23.7,\"28\":20.8,\"29\":18.2},\"Exercise Duration (mins)\":{\"0\":92,\"1\":104,\"2\":118,\"3\":11,\"4\":104,\"5\":28,\"6\":15,\"7\":28,\"8\":56,\"9\":50,\"10\":76,\"11\":78,\"12\":26,\"13\":106,\"14\":84,\"15\":51,\"16\":14,\"17\":40,\"18\":20,\"19\":68,\"20\":108,\"21\":83,\"22\":21,\"23\":1,\"24\":76,\"25\":52,\"26\":117,\"27\":1,\"28\":120,\"29\":109}}'},\n {'role': 'assistant',\n  'content': \"Anomaly Analysis:\\n\\n1. The patient's blood pressure seems to be fluctuating quite a bit, with systolic pressure ranging from 101 to 140 mmHg and diastolic pressure ranging from 62 to 90 mmHg. This is a concern as it indicates that the patient's blood pressure is not well controlled.\\n\\n2. The patient's weight also shows significant fluctuations, ranging from 60.1 kg to 79.3 kg within a month. This could be due to measurement errors or it could indicate a health issue.\\n\\n3. The patient's heart rate also varies significantly, ranging from 60 to 100 bpm. This could be due to physical activity, but if the high rates are occurring at rest, it could indicate a problem.\\n\\n4. The patient's sleep duration varies from 5.4 to 8.9 hours. While this is within the normal range, the inconsistency could be affecting the patient's blood pressure control.\\n\\nKey Insights:\\n\\n1. The patient's blood pressure medication may need to be adjusted, as their blood pressure is not well controlled.\\n\\n2. The patient's weight fluctuations should be investigated further. If they are not due to measurement errors, they could indicate a health issue such as fluid retention.\\n\\n3. The patient's heart rate should be monitored, particularly at rest. If the high rates are not due to physical activity, they could indicate a problem such as arrhythmia.\\n\\n4. The patient's sleep habits should be reviewed. Consistent sleep duration is important for blood pressure control.\\n\\n5. The patient's exercise duration varies significantly, from 1 to 120 minutes. Regular exercise is important for blood pressure control, so the patient should aim for a consistent daily exercise duration.\\n\\n6. The patient's body fat percentage ranges from 15.5% to 24.9%. This is within the healthy range for both men and women, but the fluctuations should be investigated further.\\n\\n7. The patient's active calories burned range from 115 to 797, while resting calories range from 1474 to 2403. This indicates a good level of physical activity, which is beneficial for blood pressure control. \\n\\n8. The patient's step count ranges from 4797 to 14619, indicating a good level of physical activity. However, there are some days with a low step count, which could be affecting the patient's blood pressure control. \\n\\nOverall, the patient's data indicates a need for better blood pressure control and more consistent health habits.\"}]"
     },
     "execution_count": 87,
     "metadata": {},
     "output_type": "execute_result"
    }
   ],
   "source": [
    "messages"
   ],
   "metadata": {
    "collapsed": false,
    "ExecuteTime": {
     "end_time": "2023-09-16T17:55:38.690322Z",
     "start_time": "2023-09-16T17:55:38.681529Z"
    }
   },
   "id": "824ff260d04f287a"
  },
  {
   "cell_type": "code",
   "execution_count": null,
   "outputs": [],
   "source": [],
   "metadata": {
    "collapsed": false
   },
   "id": "21b37bf202b717f3"
  }
 ],
 "metadata": {
  "kernelspec": {
   "display_name": "Python 3",
   "language": "python",
   "name": "python3"
  },
  "language_info": {
   "codemirror_mode": {
    "name": "ipython",
    "version": 2
   },
   "file_extension": ".py",
   "mimetype": "text/x-python",
   "name": "python",
   "nbconvert_exporter": "python",
   "pygments_lexer": "ipython2",
   "version": "2.7.6"
  }
 },
 "nbformat": 4,
 "nbformat_minor": 5
}
